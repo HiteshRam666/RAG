{
 "cells": [
  {
   "cell_type": "code",
   "execution_count": 33,
   "metadata": {},
   "outputs": [],
   "source": [
    "# Data Ingestion\n",
    "from langchain_community.document_loaders import TextLoader \n",
    "loader = TextLoader(\"ai.txt\", encoding=\"utf-8\")"
   ]
  },
  {
   "cell_type": "code",
   "execution_count": 34,
   "metadata": {},
   "outputs": [],
   "source": [
    "text_document = loader.load()"
   ]
  },
  {
   "cell_type": "code",
   "execution_count": 42,
   "metadata": {},
   "outputs": [],
   "source": [
    "import os \n",
    "from dotenv import load_dotenv, find_dotenv \n",
    "load_dotenv() \n",
    "os.environ[\"OPENAI_API_KEY\"] = os.getenv(\"OPENAI_API_KEY\")"
   ]
  },
  {
   "cell_type": "code",
   "execution_count": 43,
   "metadata": {},
   "outputs": [],
   "source": [
    "from langchain_openai import OpenAI \n",
    "llm = OpenAI()"
   ]
  },
  {
   "cell_type": "code",
   "execution_count": 44,
   "metadata": {},
   "outputs": [],
   "source": [
    "from langchain.text_splitter import RecursiveCharacterTextSplitter \n",
    "\n",
    "text_splitter = RecursiveCharacterTextSplitter(chunk_size = 1000, chunk_overlap = 200)"
   ]
  },
  {
   "cell_type": "code",
   "execution_count": 48,
   "metadata": {},
   "outputs": [],
   "source": [
    "docs = text_splitter.split_documents(text_document)"
   ]
  },
  {
   "cell_type": "code",
   "execution_count": 49,
   "metadata": {},
   "outputs": [
    {
     "data": {
      "text/plain": [
       "[Document(metadata={'source': 'ai.txt'}, page_content='Introduction\\nThe world is undergoing a profound transformation, driven by artificial intelligence (AI). AI is no longer just a concept from science fiction; it has become an integral part of our daily lives, revolutionizing industries, economies, and societies. From self-driving cars and personalized recommendations to intelligent chatbots and automated medical diagnoses, AI is reshaping the way humans interact with technology. This essay explores the AI revolution, its historical development, its current applications, and its future implications.'),\n",
       " Document(metadata={'source': 'ai.txt'}, page_content='The Evolution of AI\\nThe journey of AI began in the mid-20th century with pioneers like Alan Turing, who laid the foundations of machine intelligence. Turing’s famous \"Turing Test\" proposed a way to determine whether a machine could exhibit human-like intelligence. The 1950s and 1960s saw the development of early AI programs, such as the Logic Theorist and General Problem Solver. However, due to limited computational power and unrealistic expectations, AI research went through several \"AI winters,\" periods of reduced funding and interest.')]"
      ]
     },
     "execution_count": 49,
     "metadata": {},
     "output_type": "execute_result"
    }
   ],
   "source": [
    "docs[:2]"
   ]
  },
  {
   "cell_type": "code",
   "execution_count": 51,
   "metadata": {},
   "outputs": [],
   "source": [
    "# Vector Embedding and Vector Store\n",
    "from langchain_openai import OpenAIEmbeddings\n",
    "embedding = OpenAIEmbeddings()\n",
    "\n",
    "from langchain_community.vectorstores import Chroma\n",
    "db = Chroma.from_documents(docs, embedding)"
   ]
  },
  {
   "cell_type": "code",
   "execution_count": 56,
   "metadata": {},
   "outputs": [
    {
     "name": "stdout",
     "output_type": "stream",
     "text": [
      "The Evolution of AI\n",
      "The journey of AI began in the mid-20th century with pioneers like Alan Turing, who laid the foundations of machine intelligence. Turing’s famous \"Turing Test\" proposed a way to determine whether a machine could exhibit human-like intelligence. The 1950s and 1960s saw the development of early AI programs, such as the Logic Theorist and General Problem Solver. However, due to limited computational power and unrealistic expectations, AI research went through several \"AI winters,\" periods of reduced funding and interest.\n"
     ]
    }
   ],
   "source": [
    "query = \"The Evolution of AI\"\n",
    "\n",
    "result = db.similarity_search(query, k=1)\n",
    "print(result[0].page_content)"
   ]
  },
  {
   "cell_type": "code",
   "execution_count": 57,
   "metadata": {},
   "outputs": [],
   "source": [
    "retreiver = db.as_retriever()"
   ]
  },
  {
   "cell_type": "code",
   "execution_count": 67,
   "metadata": {},
   "outputs": [],
   "source": [
    "chain = llm | retreiver "
   ]
  },
  {
   "cell_type": "code",
   "execution_count": 68,
   "metadata": {},
   "outputs": [
    {
     "data": {
      "text/plain": [
       "'The Evolution of AI\\nThe journey of AI began in the mid-20th century with pioneers like Alan Turing, who laid the foundations of machine intelligence. Turing’s famous \"Turing Test\" proposed a way to determine whether a machine could exhibit human-like intelligence. The 1950s and 1960s saw the development of early AI programs, such as the Logic Theorist and General Problem Solver. However, due to limited computational power and unrealistic expectations, AI research went through several \"AI winters,\" periods of reduced funding and interest.'"
      ]
     },
     "execution_count": 68,
     "metadata": {},
     "output_type": "execute_result"
    }
   ],
   "source": [
    "chain.invoke(\"The Evolution of AI\")[0].page_content"
   ]
  }
 ],
 "metadata": {
  "kernelspec": {
   "display_name": "Python 3",
   "language": "python",
   "name": "python3"
  },
  "language_info": {
   "codemirror_mode": {
    "name": "ipython",
    "version": 3
   },
   "file_extension": ".py",
   "mimetype": "text/x-python",
   "name": "python",
   "nbconvert_exporter": "python",
   "pygments_lexer": "ipython3",
   "version": "3.12.0"
  }
 },
 "nbformat": 4,
 "nbformat_minor": 2
}
