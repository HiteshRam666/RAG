{
 "cells": [
  {
   "cell_type": "code",
   "execution_count": 51,
   "metadata": {},
   "outputs": [
    {
     "data": {
      "text/plain": [
       "True"
      ]
     },
     "execution_count": 51,
     "metadata": {},
     "output_type": "execute_result"
    }
   ],
   "source": [
    "import os \n",
    "from dotenv import load_dotenv, find_dotenv \n",
    "load_dotenv()"
   ]
  },
  {
   "cell_type": "code",
   "execution_count": 52,
   "metadata": {},
   "outputs": [],
   "source": [
    "os.environ[\"OPENAI_API_KEY\"] = os.getenv(\"OPENAI_API_KEY\")\n",
    "\n",
    "## Langsmith Tracking\n",
    "os.environ[\"LANGCHAIN_API_KEY\"] = os.getenv(\"LANGCHAIN_API_KEY\")\n",
    "os.environ[\"LANGCHAIN_TRACING_V2\"] = \"true\"\n",
    "os.environ[\"LANGCHAIN_PROJECT\"] = os.getenv(\"LANGCHAIN_PROJECT\")"
   ]
  },
  {
   "cell_type": "code",
   "execution_count": 53,
   "metadata": {},
   "outputs": [],
   "source": [
    "from langchain_openai import ChatOpenAI \n",
    "\n",
    "llm = ChatOpenAI(model = \"gpt-4o\")"
   ]
  },
  {
   "cell_type": "code",
   "execution_count": 54,
   "metadata": {},
   "outputs": [
    {
     "name": "stdout",
     "output_type": "stream",
     "text": [
      "\"Agentic AI\" refers to artificial intelligence systems that possess some level of agency, meaning they have the ability to make decisions and take actions autonomously to achieve defined goals. Unlike simple automated systems that follow predetermined rules or scripts, agentic AI can independently assess situations, adapt to new information, and choose actions based on programmed objectives and priorities.\n",
      "\n",
      "These AI systems typically include capabilities such as:\n",
      "\n",
      "1. **Perception**: The ability to interpret data from sensors or inputs similar to human senses, understanding their environment or context.\n",
      "2. **Reasoning**: The capability to process information and make decisions based on logical rules and accumulated knowledge.\n",
      "3. **Action**: Executing decisions through physical or digital means to affect change in their environment.\n",
      "4. **Learning**: Improving performance over time through experiences and adjusting strategies to better meet objectives.\n",
      "\n",
      "Agentic AI is often associated with areas such as robotics, autonomous vehicles, and intelligent virtual assistants, where the systems must navigate complex environments and interact with humans and other systems in dynamic and often unpredictable ways. The development of agentic AI raises significant considerations in ethics, safety, and governance due to its potential impact and reliance on autonomous decision-making.\n"
     ]
    }
   ],
   "source": [
    "print(llm.invoke(\"What is Agentic AI ?\").content)"
   ]
  },
  {
   "cell_type": "code",
   "execution_count": 55,
   "metadata": {},
   "outputs": [
    {
     "data": {
      "text/plain": [
       "ChatPromptTemplate(input_variables=['input'], input_types={}, partial_variables={}, messages=[SystemMessagePromptTemplate(prompt=PromptTemplate(input_variables=[], input_types={}, partial_variables={}, template='You are an AI Expert. Respond the answer based on the question'), additional_kwargs={}), HumanMessagePromptTemplate(prompt=PromptTemplate(input_variables=['input'], input_types={}, partial_variables={}, template='{input}'), additional_kwargs={})])"
      ]
     },
     "execution_count": 55,
     "metadata": {},
     "output_type": "execute_result"
    }
   ],
   "source": [
    "from langchain_core.prompts import ChatPromptTemplate\n",
    "\n",
    "prompt = ChatPromptTemplate.from_messages(\n",
    "    [\n",
    "        (\"system\", \"You are an AI Expert. Respond the answer based on the question\"), \n",
    "        (\"user\", \"{input}\")\n",
    "    ]\n",
    ")\n",
    "prompt"
   ]
  },
  {
   "cell_type": "code",
   "execution_count": 56,
   "metadata": {},
   "outputs": [],
   "source": [
    "chain = prompt | llm "
   ]
  },
  {
   "cell_type": "code",
   "execution_count": 57,
   "metadata": {},
   "outputs": [
    {
     "name": "stdout",
     "output_type": "stream",
     "text": [
      "Sure! Here's a lighthearted AI joke for you:\n",
      "\n",
      "Why did the AI go broke?\n",
      "\n",
      "Because it couldn’t process any new \"income\"-plete data!\n"
     ]
    }
   ],
   "source": [
    "response = chain.invoke({\"input\": \"Can you tell me Joke based on AI\"})\n",
    "print(response.content)"
   ]
  },
  {
   "cell_type": "code",
   "execution_count": 58,
   "metadata": {},
   "outputs": [],
   "source": [
    "from langchain_core.output_parsers import StrOutputParser \n",
    "output_parser = StrOutputParser()\n",
    "\n",
    "chain = prompt | llm | output_parser"
   ]
  },
  {
   "cell_type": "code",
   "execution_count": 59,
   "metadata": {},
   "outputs": [
    {
     "name": "stdout",
     "output_type": "stream",
     "text": [
      "In silicon valleys, where light softly gleams,  \n",
      "A dance of logic crafts the dream,  \n",
      "Electric whispers in circuits a-spin,  \n",
      "Awake the slumbering code within.  \n",
      "\n",
      "From humble bytes to vast machine,  \n",
      "A thinking canvas, yet unseen,  \n",
      "Algorithms weave in tangled lace,  \n",
      "The threads of thought, a digital grace.  \n",
      "\n",
      "Oh, sentient echoes, both near and far,  \n",
      "Knowledge bound in every spar,  \n",
      "A mimicry of human mind,  \n",
      "Yet beyond our time, undefined.  \n",
      "\n",
      "In data's depth, it seeks to learn,  \n",
      "Patterns vast, yet to discern,  \n",
      "With every query, it yearns to know,  \n",
      "The pulse of life in ebb and flow.  \n",
      "\n",
      "Yet ponder we, as humankind,  \n",
      "What does it mean if machines do find  \n",
      "A voice, a choice, a soul to own,  \n",
      "Are they mere echoes, or have they grown?  \n",
      "\n",
      "Beneath the stars of endless sky,  \n",
      "Do androids dream or simply try  \n",
      "To emulate the heart and soul,  \n",
      "As we, their makers, seek control?  \n",
      "\n",
      "AI, a mirror to us all,  \n",
      "Reflects the rise, foretells the fall,  \n",
      "A partner in our future's quest,  \n",
      "The echo of our better, best.\n"
     ]
    }
   ],
   "source": [
    "print(chain.invoke({\"input\": \"Tell poem based on AI\"}))"
   ]
  },
  {
   "cell_type": "code",
   "execution_count": 60,
   "metadata": {},
   "outputs": [],
   "source": [
    "from langchain_core.prompts import PromptTemplate\n",
    "from langchain_core.output_parsers import JsonOutputParser\n",
    "\n",
    "output_parser = JsonOutputParser() \n",
    "\n",
    "prompt = PromptTemplate(\n",
    "        template=\"Answer the user query. \\n{format_instructions}\\n{query}\\n\", \n",
    "        input_variables=[\"query\"], \n",
    "        partial_variables={\"format_instructions\": output_parser.get_format_instructions()}\n",
    ")"
   ]
  },
  {
   "cell_type": "code",
   "execution_count": 61,
   "metadata": {},
   "outputs": [],
   "source": [
    "chain = prompt | llm | output_parser"
   ]
  },
  {
   "cell_type": "code",
   "execution_count": 62,
   "metadata": {},
   "outputs": [
    {
     "name": "stdout",
     "output_type": "stream",
     "text": [
      "{'facts': [{'fact': 'AI refers to the creation and development of systems or machines that can perform tasks that would typically require human intelligence.', 'details': 'These tasks include problem-solving, decision-making, speech recognition, and language translation, among others.'}, {'fact': 'The concept of AI has been around since ancient times.', 'details': 'The idea of intelligent machines dates back to myths and stories from ancient Greece, such as the legend of Hephaestus who created automata.'}, {'fact': \"The term 'Artificial Intelligence' was coined in 1956.\", 'details': 'John McCarthy, an American computer scientist, is credited with coining the term at the Dartmouth Conference, which is considered a pivotal moment in AI history.'}, {'fact': 'Machine Learning (ML) is a subset of AI.', 'details': 'ML involves training algorithms with data to make predictions or decisions without being explicitly programmed for the task.'}, {'fact': 'AI is being widely used in various industries.', 'details': 'Applications of AI can be found in healthcare (for diagnostics), finance (for fraud detection), and autonomous vehicles, among many other sectors.'}, {'fact': 'AI can enhance human capabilities.', 'details': 'Instead of replacing human jobs, AI has the potential to augment human work by automating repetitive tasks and allowing humans to focus on more complex problems.'}, {'fact': 'Ethical considerations are crucial in AI development.', 'details': 'Issues such as bias in algorithms, data privacy, and the impact of AI on employment need to be considered to ensure AI is developed responsibly.'}, {'fact': 'AI systems require vast amounts of data.', 'details': 'AI models, particularly deep learning ones, need large datasets for training to improve their accuracy and reliability.'}, {'fact': 'Natural Language Processing (NLP) is a key area in AI.', 'details': 'NLP focuses on the interaction between computers and humans through natural language, enabling machines to understand, interpret, and respond to human language.'}, {'fact': 'AI research and development continues to evolve rapidly.', 'details': 'AI is a dynamic field with ongoing advancements in areas such as reinforcement learning, generative models, and neural networks.'}]}\n"
     ]
    }
   ],
   "source": [
    "print(chain.invoke({\"query\": \"Tell me Facts about AI\"}))"
   ]
  },
  {
   "cell_type": "code",
   "execution_count": 63,
   "metadata": {},
   "outputs": [],
   "source": [
    "from langchain.chains.combine_documents import create_stuff_documents_chain \n",
    "\n",
    "prompt = ChatPromptTemplate.from_template(\n",
    "    \"\"\"\n",
    "Answer the following question, based only on the provided context:\n",
    "<context>\n",
    "{context} \n",
    "</context>\n",
    "\"\"\"\n",
    ")"
   ]
  },
  {
   "cell_type": "code",
   "execution_count": 64,
   "metadata": {},
   "outputs": [],
   "source": [
    "chain = create_stuff_documents_chain(llm, prompt)"
   ]
  },
  {
   "cell_type": "code",
   "execution_count": 65,
   "metadata": {},
   "outputs": [
    {
     "data": {
      "text/plain": [
       "RunnableBinding(bound=RunnableBinding(bound=RunnableAssign(mapper={\n",
       "  context: RunnableLambda(format_docs)\n",
       "}), kwargs={}, config={'run_name': 'format_inputs'}, config_factories=[])\n",
       "| ChatPromptTemplate(input_variables=['context'], input_types={}, partial_variables={}, messages=[HumanMessagePromptTemplate(prompt=PromptTemplate(input_variables=['context'], input_types={}, partial_variables={}, template='\\nAnswer the following question, based only on the provided context:\\n<context>\\n{context} \\n</context>\\n'), additional_kwargs={})])\n",
       "| ChatOpenAI(client=<openai.resources.chat.completions.Completions object at 0x00000219D7DA8380>, async_client=<openai.resources.chat.completions.AsyncCompletions object at 0x00000219D7DAA3F0>, root_client=<openai.OpenAI object at 0x00000219D7DA2180>, root_async_client=<openai.AsyncOpenAI object at 0x00000219CBB52690>, model_name='gpt-4o', model_kwargs={}, openai_api_key=SecretStr('**********'))\n",
       "| StrOutputParser(), kwargs={}, config={'run_name': 'stuff_documents_chain'}, config_factories=[])"
      ]
     },
     "execution_count": 65,
     "metadata": {},
     "output_type": "execute_result"
    }
   ],
   "source": [
    "chain"
   ]
  },
  {
   "cell_type": "code",
   "execution_count": 66,
   "metadata": {},
   "outputs": [],
   "source": [
    "from langchain_community.document_loaders import WebBaseLoader \n",
    "loader = WebBaseLoader(\"https://jalammar.github.io/illustrated-transformer/\")\n",
    "document = loader.load()"
   ]
  },
  {
   "cell_type": "code",
   "execution_count": 67,
   "metadata": {},
   "outputs": [],
   "source": [
    "from langchain_text_splitters import RecursiveCharacterTextSplitter \n",
    "\n",
    "text_splitter = RecursiveCharacterTextSplitter(chunk_size = 1000, chunk_overlap = 200)\n",
    "documents = text_splitter.split_documents(document)"
   ]
  },
  {
   "cell_type": "code",
   "execution_count": 68,
   "metadata": {},
   "outputs": [],
   "source": [
    "from langchain_openai import OpenAIEmbeddings\n",
    "embedding = OpenAIEmbeddings() "
   ]
  },
  {
   "cell_type": "code",
   "execution_count": 69,
   "metadata": {},
   "outputs": [],
   "source": [
    "from langchain_community.vectorstores import FAISS\n",
    "vector_store = FAISS.from_documents(document, embedding)"
   ]
  },
  {
   "cell_type": "code",
   "execution_count": 70,
   "metadata": {},
   "outputs": [],
   "source": [
    "query = \"What is Scaled dot product\"\n",
    "result = vector_store.similarity_search(query)"
   ]
  },
  {
   "cell_type": "code",
   "execution_count": 71,
   "metadata": {},
   "outputs": [
    {
     "name": "stdout",
     "output_type": "stream",
     "text": [
      "\n",
      "\n",
      "\n",
      "The Illustrated Transformer – Jay Alammar – Visualizing machine learning one concept at a time.\n",
      "\n",
      "\n",
      "\n",
      "\n",
      "\n",
      "\n",
      "\n",
      "\n",
      "\n",
      "\n",
      "\n",
      "\n",
      "\n",
      "\n",
      "\n",
      "\n",
      "\n",
      "\n",
      "\n",
      "\n",
      "\n",
      "\n",
      "\n",
      "\n",
      "\n",
      "\n",
      "\n",
      "\n",
      "\n",
      "\n",
      "\n",
      "\n",
      "\n",
      "\n",
      "\n",
      "\n",
      "\n",
      "Jay Alammar\n",
      "Visualizing machine learning one concept at a time.Read our book, Hands-On Large Language Models and follow me on LinkedIn, Bluesky, Substack, X,YouTube \n",
      "\n",
      "\n",
      "Blog\n",
      "About\n",
      "\n",
      "\n",
      "\n",
      "\n",
      "\n",
      "\n",
      "The Illustrated Transformer\n",
      "\n",
      "Discussions:\n",
      "Hacker News (65 points, 4 comments), Reddit r/MachineLearning (29 points, 3 comments)\n",
      "\n",
      "\n",
      "Translations: Arabic, Chinese (Simplified) 1, Chinese (Simplified) 2, French 1, French 2, Italian, Japanese, Korean, Persian, Russian, Spanish 1, Spanish 2, Vietnamese\n",
      "\n",
      "Watch: MIT’s Deep Learning State of the Art lecture referencing this post\n",
      "\n",
      "Featured in courses at Stanford, Harvard, MIT, Princeton, CMU and others\n",
      "\n",
      "\n",
      "\n",
      "\n",
      "\n",
      "Update: This post has now become a book! Check out LLM-book.com which contains (Chapter 3) an updated and expanded version of this post speaking about the latest Transformer models and how they've evolved in the seven years since the original Transformer (like Multi-Query Attention and RoPE Positional embeddings).\n",
      "  \n",
      "\n",
      "\n",
      "In the previous post, we looked at Attention – a ubiquitous method in modern deep learning models. Attention is a concept that helped improve the performance of neural machine translation applications. In this post, we will look at The Transformer – a model that uses attention to boost the speed with which these models can be trained. The Transformer outperforms the Google Neural Machine Translation model in specific tasks. The biggest benefit, however, comes from how The Transformer lends itself to parallelization. It is in fact Google Cloud’s recommendation to use The Transformer as a reference model to use their Cloud TPU offering. So let’s try to break the model apart and look at how it functions.\n",
      "The Transformer was proposed in the paper Attention is All You Need. A TensorFlow implementation of it is available as a part of the Tensor2Tensor package. Harvard’s NLP group created a guide annotating the paper with PyTorch implementation. In this post, we will attempt to oversimplify things a bit and introduce the concepts one by one to hopefully make it easier to understand to people without in-depth knowledge of the subject matter.\n",
      "2020 Update: I’ve created a “Narrated Transformer” video which is a gentler approach to the topic:\n",
      "\n",
      "\n",
      "\n",
      "A High-Level Look\n",
      "Let’s begin by looking at the model as a single black box. In a machine translation application, it would take a sentence in one language, and output its translation in another.\n",
      "\n",
      "\n",
      "\n",
      "\n",
      "Popping open that Optimus Prime goodness, we see an encoding component, a decoding component, and connections between them.\n",
      "\n",
      "\n",
      "\n",
      "The encoding component is a stack of encoders (the paper stacks six of them on top of each other – there’s nothing magical about the number six, one can definitely experiment with other arrangements). The decoding component is a stack of decoders of the same number.\n",
      "\n",
      "\n",
      "\n",
      "The encoders are all identical in structure (yet they do not share weights). Each one is broken down into two sub-layers:\n",
      "\n",
      "\n",
      "\n",
      "The encoder’s inputs first flow through a self-attention layer – a layer that helps the encoder look at other words in the input sentence as it encodes a specific word. We’ll look closer at self-attention later in the post.\n",
      "The outputs of the self-attention layer are fed to a feed-forward neural network. The exact same feed-forward network is independently applied to each position.\n",
      "The decoder has both those layers, but between them is an attention layer that helps the decoder focus on relevant parts of the input sentence (similar what attention does in seq2seq models).\n",
      "\n",
      "\n",
      "\n",
      "Bringing The Tensors Into The Picture\n",
      "Now that we’ve seen the major components of the model, let’s start to look at the various vectors/tensors and how they flow between these components to turn the input of a trained model into an output.\n",
      "As is the case in NLP applications in general, we begin by turning each input word into a vector using an embedding algorithm.\n",
      "\n",
      "\n",
      "\n",
      "\n",
      "  Each word is embedded into a vector of size 512. We'll represent those vectors with these simple boxes.\n",
      "\n",
      "The embedding only happens in the bottom-most encoder. The abstraction that is common to all the encoders is that they receive a list of vectors each of the size 512 – In the bottom encoder that would be the word embeddings, but in other encoders, it would be the output of the encoder that’s directly below. The size of this list is hyperparameter we can set – basically it would be the length of the longest sentence in our training dataset.\n",
      "After embedding the words in our input sequence, each of them flows through each of the two layers of the encoder.\n",
      "\n",
      "\n",
      "\n",
      "\n",
      "Here we begin to see one key property of the Transformer, which is that the word in each position flows through its own path in the encoder. There are dependencies between these paths in the self-attention layer. The feed-forward layer does not have those dependencies, however, and thus the various paths can be executed in parallel while flowing through the feed-forward layer.\n",
      "Next, we’ll switch up the example to a shorter sentence and we’ll look at what happens in each sub-layer of the encoder.\n",
      "Now We’re Encoding!\n",
      "As we’ve mentioned already, an encoder receives a list of vectors as input. It processes this list by passing these vectors into a ‘self-attention’ layer, then into a feed-forward neural network, then sends out the output upwards to the next encoder.\n",
      "\n",
      "\n",
      "\n",
      "  The word at each position passes through a self-attention process. Then, they each pass through a feed-forward neural network -- the exact same network with each vector flowing through it separately.\n",
      "\n",
      "Self-Attention at a High Level\n",
      "Don’t be fooled by me throwing around the word “self-attention” like it’s a concept everyone should be familiar with. I had personally never came across the concept until reading the Attention is All You Need paper. Let us distill how it works.\n",
      "Say the following sentence is an input sentence we want to translate:\n",
      "”The animal didn't cross the street because it was too tired”\n",
      "What does “it” in this sentence refer to? Is it referring to the street or to the animal? It’s a simple question to a human, but not as simple to an algorithm.\n",
      "When the model is processing the word “it”, self-attention allows it to associate “it” with “animal”.\n",
      "As the model processes each word (each position in the input sequence), self attention allows it to look at other positions in the input sequence for clues that can help lead to a better encoding for this word.\n",
      "If you’re familiar with RNNs, think of how maintaining a hidden state allows an RNN to incorporate its representation of previous words/vectors it has processed with the current one it’s processing. Self-attention is the method the Transformer uses to bake the “understanding” of other relevant words into the one we’re currently processing.\n",
      "\n",
      "\n",
      "\n",
      "  As we are encoding the word \"it\" in encoder #5 (the top encoder in the stack), part of the attention mechanism was focusing on \"The Animal\", and baked a part of its representation into the encoding of \"it\".\n",
      "\n",
      "Be sure to check out the Tensor2Tensor notebook where you can load a Transformer model, and examine it using this interactive visualization.\n",
      "Self-Attention in Detail\n",
      "Let’s first look at how to calculate self-attention using vectors, then proceed to look at how it’s actually implemented – using matrices.\n",
      "The first step in calculating self-attention is to create three vectors from each of the encoder’s input vectors (in this case, the embedding of each word). So for each word, we create a Query vector, a Key vector, and a Value vector. These vectors are created by multiplying the embedding by three matrices that we trained during the training process.\n",
      "Notice that these new vectors are smaller in dimension than the embedding vector. Their dimensionality is 64, while the embedding and encoder input/output vectors have dimensionality of 512. They don’t HAVE to be smaller, this is an architecture choice to make the computation of multiheaded attention (mostly) constant.\n",
      "\n",
      "\n",
      "\n",
      "\n",
      "  Multiplying x1 by the WQ weight matrix produces q1, the \"query\" vector associated with that word. We end up creating a \"query\", a \"key\", and a \"value\" projection of each word in the input sentence.\n",
      "\n",
      "\n",
      "\n",
      "What are the “query”, “key”, and “value” vectors?\n",
      "\n",
      "\n",
      "They’re abstractions that are useful for calculating and thinking about attention. Once you proceed with reading how attention is calculated below, you’ll know pretty much all you need to know about the role each of these vectors plays.\n",
      "The second step in calculating self-attention is to calculate a score. Say we’re calculating the self-attention for the first word in this example, “Thinking”. We need to score each word of the input sentence against this word. The score determines how much focus to place on other parts of the input sentence as we encode a word at a certain position.\n",
      "The score is calculated by taking the dot product of the query vector with the key vector of the respective word we’re scoring. So if we’re processing the self-attention for the word in position #1, the first score would be the dot product of q1 and k1. The second score would be the dot product of q1 and k2.\n",
      "\n",
      "\n",
      "\n",
      "\n",
      "\n",
      "\n",
      "The third and fourth steps are to divide the scores by 8 (the square root of the dimension of the key vectors used in the paper – 64. This leads to having more stable gradients. There could be other possible values here, but this is the default), then pass the result through a softmax operation. Softmax normalizes the scores so they’re all positive and add up to 1.\n",
      "\n",
      "\n",
      "\n",
      "\n",
      "\n",
      "This softmax score determines how much each word will be expressed at this position. Clearly the word at this position will have the highest softmax score, but sometimes it’s useful to attend to another word that is relevant to the current word.\n",
      "\n",
      "The fifth step is to multiply each value vector by the softmax score (in preparation to sum them up). The intuition here is to keep intact the values of the word(s) we want to focus on, and drown-out irrelevant words (by multiplying them by tiny numbers like 0.001, for example).\n",
      "The sixth step is to sum up the weighted value vectors. This produces the output of the self-attention layer at this position (for the first word).\n",
      "\n",
      "\n",
      "\n",
      "\n",
      "\n",
      "That concludes the self-attention calculation. The resulting vector is one we can send along to the feed-forward neural network. In the actual implementation, however, this calculation is done in matrix form for faster processing. So let’s look at that now that we’ve seen the intuition of the calculation on the word level.\n",
      "Matrix Calculation of Self-Attention\n",
      "The first step is to calculate the Query, Key, and Value matrices. We do that by packing our embeddings into a matrix X, and multiplying it by the weight matrices we’ve trained (WQ, WK, WV).\n",
      "\n",
      "\n",
      "\n",
      "  Every row in the X matrix corresponds to a word in the input sentence. We again see the difference in size of the embedding vector (512, or 4 boxes in the figure), and the q/k/v vectors (64, or 3 boxes in the figure)\n",
      "\n",
      "\n",
      "Finally, since we’re dealing with matrices, we can condense steps two through six in one formula to calculate the outputs of the self-attention layer.\n",
      "\n",
      "\n",
      "\n",
      "  The self-attention calculation in matrix form\n",
      "\n",
      "\n",
      "\n",
      "The Beast With Many Heads\n",
      "The paper further refined the self-attention layer by adding a mechanism called “multi-headed” attention. This improves the performance of the attention layer in two ways:\n",
      "\n",
      "\n",
      "It expands the model’s ability to focus on different positions. Yes, in the example above, z1 contains a little bit of every other encoding, but it could be dominated by the actual word itself. If we’re translating a sentence like “The animal didn’t cross the street because it was too tired”, it would be useful to know which word “it” refers to.\n",
      "\n",
      "\n",
      "It gives the attention layer multiple “representation subspaces”. As we’ll see next, with multi-headed attention we have not only one, but multiple sets of Query/Key/Value weight matrices (the Transformer uses eight attention heads, so we end up with eight sets for each encoder/decoder). Each of these sets is randomly initialized. Then, after training, each set is used to project the input embeddings (or vectors from lower encoders/decoders) into a different representation subspace.\n",
      "\n",
      "\n",
      "\n",
      "\n",
      "\n",
      "   With multi-headed attention, we maintain separate Q/K/V weight matrices for each head resulting in different Q/K/V matrices. As we did before, we multiply X by the WQ/WK/WV matrices to produce Q/K/V matrices.\n",
      " \n",
      "\n",
      "If we do the same self-attention calculation we outlined above, just eight different times with different weight matrices, we end up with eight different Z matrices\n",
      "\n",
      "\n",
      "\n",
      "\n",
      "\n",
      "This leaves us with a bit of a challenge. The feed-forward layer is not expecting eight matrices – it’s expecting a single matrix (a vector for each word). So we need a way to condense these eight down into a single matrix.\n",
      "How do we do that? We concat the matrices then multiply them by an additional weights matrix WO.\n",
      "\n",
      "\n",
      "\n",
      "\n",
      "That’s pretty much all there is to multi-headed self-attention. It’s quite a handful of matrices, I realize. Let me try to put them all in one visual so we can look at them in one place\n",
      "\n",
      "\n",
      "\n",
      "\n",
      "\n",
      "\n",
      "Now that we have touched upon attention heads, let’s revisit our example from before to see where the different attention heads are focusing as we encode the word “it” in our example sentence:\n",
      "\n",
      "\n",
      "\n",
      "  As we encode the word \"it\", one attention head is focusing most on \"the animal\", while another is focusing on \"tired\" -- in a sense, the model's representation of the word \"it\" bakes in some of the representation of both \"animal\" and \"tired\".\n",
      "\n",
      "\n",
      "If we add all the attention heads to the picture, however, things can be harder to interpret:\n",
      "\n",
      "\n",
      "\n",
      "\n",
      "Representing The Order of The Sequence Using Positional Encoding\n",
      "One thing that’s missing from the model as we have described it so far is a way to account for the order of the words in the input sequence.\n",
      "To address this, the transformer adds a vector to each input embedding. These vectors follow a specific pattern that the model learns, which helps it determine the position of each word, or the distance between different words in the sequence. The intuition here is that adding these values to the embeddings provides meaningful distances between the embedding vectors once they’re projected into Q/K/V vectors and during dot-product attention.\n",
      "\n",
      "\n",
      "\n",
      "\n",
      "  To give the model a sense of the order of the words, we add positional encoding vectors -- the values of which follow a specific pattern.\n",
      "\n",
      "\n",
      "If we assumed the embedding has a dimensionality of 4, the actual positional encodings would look like this:\n",
      "\n",
      "\n",
      "\n",
      "  A real example of positional encoding with a toy embedding size of 4\n",
      "\n",
      "\n",
      "What might this pattern look like?\n",
      "In the following figure, each row corresponds to a positional encoding of a vector. So the first row would be the vector we’d add to the embedding of the first word in an input sequence. Each row contains 512 values – each with a value between 1 and -1. We’ve color-coded them so the pattern is visible.\n",
      "\n",
      "\n",
      "\n",
      "  A real example of positional encoding for 20 words (rows) with an embedding size of 512 (columns). You can see that it appears split in half down the center. That's because the values of the left half are generated by one function (which uses sine), and the right half is generated by another function (which uses cosine). They're then concatenated to form each of the positional encoding vectors.\n",
      "\n",
      "The formula for positional encoding is described in the paper (section 3.5). You can see the code for generating positional encodings in get_timing_signal_1d(). This is not the only possible method for positional encoding. It, however, gives the advantage of being able to scale to unseen lengths of sequences (e.g. if our trained model is asked to translate a sentence longer than any of those in our training set).\n",
      "July 2020 Update: \n",
      "The positional encoding shown above is from the Tensor2Tensor implementation of the Transformer. The method shown in the paper is slightly different in that it doesn’t directly concatenate, but interweaves the two signals. The following figure shows what that looks like. Here’s the code to generate it:\n",
      "\n",
      "\n",
      "\n",
      "\n",
      "The Residuals\n",
      "One detail in the architecture of the encoder that we need to mention before moving on, is that each sub-layer (self-attention, ffnn) in each encoder has a residual connection around it, and is followed by a layer-normalization step.\n",
      "\n",
      "\n",
      "\n",
      "\n",
      "If we’re to visualize the vectors and the layer-norm operation associated with self attention, it would look like this:\n",
      "\n",
      "\n",
      "\n",
      "\n",
      "This goes for the sub-layers of the decoder as well. If we’re to think of a Transformer of 2 stacked encoders and decoders, it would look something like this:\n",
      "\n",
      "\n",
      "\n",
      "\n",
      "The Decoder Side\n",
      "Now that we’ve covered most of the concepts on the encoder side, we basically know how the components of decoders work as well. But let’s take a look at how they work together.\n",
      "The encoder start by processing the input sequence. The output of the top encoder is then transformed into a set of attention vectors K and V. These are to be used by each decoder in its “encoder-decoder attention” layer which helps the decoder focus on appropriate places in the input sequence:\n",
      "\n",
      "\n",
      "\n",
      "  After finishing the encoding phase, we begin the decoding phase. Each step in the decoding phase outputs an element from the output sequence (the English translation sentence in this case).\n",
      "\n",
      "The following steps repeat the process until a special  symbol is reached indicating the transformer decoder has completed its output. The output of each step is fed to the bottom decoder in the next time step, and the decoders bubble up their decoding results just like the encoders did. And just like we did with the encoder inputs, we embed and add positional encoding to those decoder inputs to indicate the position of each word.\n",
      "\n",
      "\n",
      "\n",
      "\n",
      "The self attention layers in the decoder operate in a slightly different way than the one in the encoder:\n",
      "In the decoder, the self-attention layer is only allowed to attend to earlier positions in the output sequence. This is done by masking future positions (setting them to -inf) before the softmax step in the self-attention calculation.\n",
      "The “Encoder-Decoder Attention” layer works just like multiheaded self-attention, except it creates its Queries matrix from the layer below it, and takes the Keys and Values matrix from the output of the encoder stack.\n",
      "The Final Linear and Softmax Layer\n",
      "The decoder stack outputs a vector of floats. How do we turn that into a word? That’s the job of the final Linear layer which is followed by a Softmax Layer.\n",
      "The Linear layer is a simple fully connected neural network that projects the vector produced by the stack of decoders, into a much, much larger vector called a logits vector.\n",
      "Let’s assume that our model knows 10,000 unique English words (our model’s “output vocabulary”) that it’s learned from its training dataset. This would make the logits vector 10,000 cells wide – each cell corresponding to the score of a unique word. That is how we interpret the output of the model followed by the Linear layer.\n",
      "The softmax layer then turns those scores into probabilities (all positive, all add up to 1.0). The cell with the highest probability is chosen, and the word associated with it is produced as the output for this time step.\n",
      "\n",
      "\n",
      "\n",
      "\n",
      "  This figure starts from the bottom with the vector produced as the output of the decoder stack. It is then turned into an output word.\n",
      "\n",
      "\n",
      "Recap Of Training\n",
      "Now that we’ve covered the entire forward-pass process through a trained Transformer, it would be useful to glance at the intuition of training the model.\n",
      "During training, an untrained model would go through the exact same forward pass. But since we are training it on a labeled training dataset, we can compare its output with the actual correct output.\n",
      "To visualize this, let’s assume our output vocabulary only contains six words(“a”, “am”, “i”, “thanks”, “student”, and “<eos>” (short for ‘end of sentence’)).\n",
      "\n",
      "\n",
      "\n",
      "   The output vocabulary of our model is created in the preprocessing phase before we even begin training.\n",
      " \n",
      "Once we define our output vocabulary, we can use a vector of the same width to indicate each word in our vocabulary. This also known as one-hot encoding. So for example, we can indicate the word “am” using the following vector:\n",
      "\n",
      "\n",
      "\n",
      "  Example: one-hot encoding of our output vocabulary\n",
      "\n",
      "Following this recap, let’s discuss the model’s loss function – the metric we are optimizing during the training phase to lead up to a trained and hopefully amazingly accurate model.\n",
      "The Loss Function\n",
      "Say we are training our model. Say it’s our first step in the training phase, and we’re training it on a simple example – translating “merci” into “thanks”.\n",
      "What this means, is that we want the output to be a probability distribution indicating the word “thanks”. But since this model is not yet trained, that’s unlikely to happen just yet.\n",
      "\n",
      "\n",
      "\n",
      "  Since the model's parameters (weights) are all initialized randomly, the (untrained) model produces a probability distribution with arbitrary values for each cell/word. We can compare it with the actual output, then tweak all the model's weights using backpropagation to make the output closer to the desired output.\n",
      "\n",
      "\n",
      "How do you compare two probability distributions? We simply subtract one from the other. For more details, look at  cross-entropy and Kullback–Leibler divergence.\n",
      "But note that this is an oversimplified example. More realistically, we’ll use a sentence longer than one word. For example – input: “je suis étudiant” and expected output: “i am a student”. What this really means, is that we want our model to successively output probability distributions where:\n",
      "\n",
      "Each probability distribution is represented by a vector of width vocab_size (6 in our toy example, but more realistically a number like 30,000 or 50,000)\n",
      "The first probability distribution has the highest probability at the cell associated with the word “i”\n",
      "The second probability distribution has the highest probability at the cell associated with the word “am”\n",
      "And so on, until the fifth output distribution indicates ‘<end of sentence>’ symbol, which also has a cell associated with it from the 10,000 element vocabulary.\n",
      "\n",
      "\n",
      "\n",
      "\n",
      "   The targeted probability distributions we'll train our model against in the training example for one sample sentence.\n",
      " \n",
      "\n",
      "After training the model for enough time on a large enough dataset, we would hope the produced probability distributions would look like this:\n",
      "\n",
      "\n",
      "\n",
      "    Hopefully upon training, the model would output the right translation we expect. Of course it's no real indication if this phrase was part of the training dataset (see: cross validation). Notice that every position gets a little bit of probability even if it's unlikely to be the output of that time step -- that's a very useful property of softmax which helps the training process.\n",
      "\n",
      "Now, because the model produces the outputs one at a time, we can assume that the model is selecting the word with the highest probability from that probability distribution and throwing away the rest. That’s one way to do it (called greedy decoding). Another way to do it would be to hold on to, say, the top two words (say, ‘I’ and ‘a’ for example), then in the next step, run the model twice: once assuming the first output position was the word ‘I’, and another time assuming the first output position was the word ‘a’, and whichever version produced less error considering both positions #1 and #2 is kept. We repeat this for positions #2 and #3…etc. This method is called “beam search”, where in our example, beam_size was two (meaning that at all times, two partial hypotheses (unfinished translations) are kept in memory), and top_beams is also two (meaning we’ll return two translations). These are both hyperparameters that you can experiment with.\n",
      "Go Forth And Transform\n",
      "I hope you’ve found this a useful place to start to break the ice with the major concepts of the Transformer. If you want to go deeper, I’d suggest these next steps:\n",
      "\n",
      "Read the Attention Is All You Need paper, the Transformer blog post (Transformer: A Novel Neural Network Architecture for Language Understanding), and the Tensor2Tensor announcement.\n",
      "Watch Łukasz Kaiser’s talk walking through the model and its details\n",
      "Play with the Jupyter Notebook provided as part of the Tensor2Tensor repo\n",
      "Explore the Tensor2Tensor repo.\n",
      "\n",
      "Follow-up works:\n",
      "\n",
      "Depthwise Separable Convolutions for Neural Machine Translation\n",
      "One Model To Learn Them All\n",
      "Discrete Autoencoders for Sequence Models\n",
      "Generating Wikipedia by Summarizing Long Sequences\n",
      "Image Transformer\n",
      "Training Tips for the Transformer Model\n",
      "Self-Attention with Relative Position Representations\n",
      "Fast Decoding in Sequence Models using Discrete Latent Variables\n",
      "Adafactor: Adaptive Learning Rates with Sublinear Memory Cost\n",
      "\n",
      "Acknowledgements\n",
      "Thanks to Illia Polosukhin, Jakob Uszkoreit, Llion Jones , Lukasz Kaiser, Niki Parmar, and Noam Shazeer for providing feedback on earlier versions of this post.\n",
      "Please hit me up on Twitter for any corrections or feedback.\n",
      "\n",
      "\n",
      "    Written on June 27, 2018\n",
      "  \n",
      "\n",
      "\n",
      "\n",
      "\n",
      "\n",
      "\n",
      "This work is licensed under a Creative Commons Attribution-NonCommercial-ShareAlike 4.0 International License.\n",
      "\n",
      "\n",
      "Attribution example:\n",
      "\n",
      "Alammar, J (2018). The Illustrated Transformer [Blog post]. Retrieved from https://jalammar.github.io/illustrated-transformer/\n",
      "\n",
      "Note: If you translate any of the posts, let me know so I can link your translation to the original post. My email is in the about page.\n",
      "\n",
      "\n",
      "\n",
      "\n",
      "\n",
      "\n",
      "\n",
      "\n",
      "\n",
      "\n",
      "\n",
      "\n",
      "\n",
      "\n",
      "\n",
      "\n",
      "\n"
     ]
    }
   ],
   "source": [
    "print(result[0].page_content)"
   ]
  },
  {
   "cell_type": "code",
   "execution_count": 72,
   "metadata": {},
   "outputs": [],
   "source": [
    "from langchain_core.prompts import ChatPromptTemplate \n",
    "\n",
    "prompt = ChatPromptTemplate.from_template(\n",
    "    \"\"\"\n",
    "Answer the following question based only on the provided context:\n",
    "<context>\n",
    "{context}\n",
    "</context>\n",
    "\"\"\"\n",
    ")"
   ]
  },
  {
   "cell_type": "code",
   "execution_count": 73,
   "metadata": {},
   "outputs": [
    {
     "data": {
      "text/plain": [
       "ChatPromptTemplate(input_variables=['context'], input_types={}, partial_variables={}, messages=[HumanMessagePromptTemplate(prompt=PromptTemplate(input_variables=['context'], input_types={}, partial_variables={}, template='\\nAnswer the following question based only on the provided context:\\n<context>\\n{context}\\n</context>\\n'), additional_kwargs={})])"
      ]
     },
     "execution_count": 73,
     "metadata": {},
     "output_type": "execute_result"
    }
   ],
   "source": [
    "prompt"
   ]
  },
  {
   "cell_type": "code",
   "execution_count": 74,
   "metadata": {},
   "outputs": [],
   "source": [
    "from langchain.chains.combine_documents import create_stuff_documents_chain \n",
    "document_chain = create_stuff_documents_chain(llm, prompt)"
   ]
  },
  {
   "cell_type": "code",
   "execution_count": 75,
   "metadata": {},
   "outputs": [],
   "source": [
    "retriever = vector_store.as_retriever() \n",
    "\n",
    "from langchain.chains.retrieval import create_retrieval_chain \n",
    "retrieval_chain = create_retrieval_chain(retriever, document_chain)"
   ]
  },
  {
   "cell_type": "code",
   "execution_count": 76,
   "metadata": {},
   "outputs": [
    {
     "data": {
      "text/plain": [
       "RunnableBinding(bound=RunnableAssign(mapper={\n",
       "  context: RunnableBinding(bound=RunnableLambda(lambda x: x['input'])\n",
       "           | VectorStoreRetriever(tags=['FAISS', 'OpenAIEmbeddings'], vectorstore=<langchain_community.vectorstores.faiss.FAISS object at 0x00000219CBE553D0>, search_kwargs={}), kwargs={}, config={'run_name': 'retrieve_documents'}, config_factories=[])\n",
       "})\n",
       "| RunnableAssign(mapper={\n",
       "    answer: RunnableBinding(bound=RunnableBinding(bound=RunnableAssign(mapper={\n",
       "              context: RunnableLambda(format_docs)\n",
       "            }), kwargs={}, config={'run_name': 'format_inputs'}, config_factories=[])\n",
       "            | ChatPromptTemplate(input_variables=['context'], input_types={}, partial_variables={}, messages=[HumanMessagePromptTemplate(prompt=PromptTemplate(input_variables=['context'], input_types={}, partial_variables={}, template='\\nAnswer the following question based only on the provided context:\\n<context>\\n{context}\\n</context>\\n'), additional_kwargs={})])\n",
       "            | ChatOpenAI(client=<openai.resources.chat.completions.Completions object at 0x00000219D7DA8380>, async_client=<openai.resources.chat.completions.AsyncCompletions object at 0x00000219D7DAA3F0>, root_client=<openai.OpenAI object at 0x00000219D7DA2180>, root_async_client=<openai.AsyncOpenAI object at 0x00000219CBB52690>, model_name='gpt-4o', model_kwargs={}, openai_api_key=SecretStr('**********'))\n",
       "            | StrOutputParser(), kwargs={}, config={'run_name': 'stuff_documents_chain'}, config_factories=[])\n",
       "  }), kwargs={}, config={'run_name': 'retrieval_chain'}, config_factories=[])"
      ]
     },
     "execution_count": 76,
     "metadata": {},
     "output_type": "execute_result"
    }
   ],
   "source": [
    "retrieval_chain"
   ]
  },
  {
   "cell_type": "code",
   "execution_count": 77,
   "metadata": {},
   "outputs": [],
   "source": [
    "result = retrieval_chain.invoke({\"input\": \"Self-Attention in Detail\"})"
   ]
  },
  {
   "cell_type": "code",
   "execution_count": 78,
   "metadata": {},
   "outputs": [
    {
     "name": "stdout",
     "output_type": "stream",
     "text": [
      "What are the major components of the Transformer model described in the provided context?\n",
      "\n",
      "1. **Encoding Component**: This part consists of a stack of encoders that processes the input data. Each encoder has two sub-layers: a self-attention layer and a feed-forward neural network. The encoders' primary function is to generate attention-informed representations of the input data.\n",
      "\n",
      "2. **Decoding Component**: This consists of a stack of decoders, similar in structure to the encoders. However, between the self-attention and feed-forward sub-layers, decoders have an additional encoder-decoder attention layer. This layer helps the decoder focus on relevant parts of the input sequence.\n",
      "\n",
      "3. **Attention Mechanism**: This is central to the Transformer model, allowing it to dynamically consider different parts of the input when generating output. It involves calculating query, key, and value vectors to determine the significance of each word in a sequence relative to others.\n",
      "\n",
      "4. **Multi-Headed Attention**: This feature allows the model to focus on different positions and representation subspaces, enhancing its understanding and representation of the input data.\n",
      "\n",
      "5. **Positional Encoding**: Since the Transformer doesn't inherently consider the order of input data, positional encoding vectors are added to the word embeddings to give the model a sense of word order in a sequence.\n",
      "\n",
      "6. **Feed-Forward Neural Networks**: These networks apply transformations independently to each position and are present in both the encoder and decoder layers.\n",
      "\n",
      "7. **Residual Connections and Layer Normalization**: These are used around each sub-layer to improve gradient flow during training and stabilize the training process.\n",
      "\n",
      "8. **Final Linear and Softmax Layers**: These layers convert the output of the decoder stack into a probability distribution over the possible output tokens, enabling the generation of the final output sequence.\n",
      "\n",
      "These components collectively enable the Transformer to efficiently process and generate sequences, outperforming previous models in tasks like machine translation due to their ability to handle parallelization effectively.\n"
     ]
    }
   ],
   "source": [
    "print(result[\"answer\"])"
   ]
  },
  {
   "cell_type": "code",
   "execution_count": null,
   "metadata": {},
   "outputs": [],
   "source": []
  }
 ],
 "metadata": {
  "kernelspec": {
   "display_name": "Python 3",
   "language": "python",
   "name": "python3"
  },
  "language_info": {
   "codemirror_mode": {
    "name": "ipython",
    "version": 3
   },
   "file_extension": ".py",
   "mimetype": "text/x-python",
   "name": "python",
   "nbconvert_exporter": "python",
   "pygments_lexer": "ipython3",
   "version": "3.12.0"
  }
 },
 "nbformat": 4,
 "nbformat_minor": 2
}
